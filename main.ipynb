{
 "cells": [
  {
   "cell_type": "code",
   "execution_count": 1,
   "metadata": {
    "collapsed": true
   },
   "outputs": [],
   "source": [
    "def read_pfile(file):\n",
    "    set_f = {}\n",
    "    f = open(file, 'r')\n",
    "    while True:\n",
    "        line = f.readline()\n",
    "        if not line: break\n",
    "        linesp = (line.split())\n",
    "        #print(linesp)\n",
    "        key = str(linesp[0])\n",
    "        \n",
    "        set_f[key] = int(linesp[1])\n",
    "        #print(key)\n",
    "        #print(linesp[1])\n",
    "        #set_f.add(line[:-1])\n",
    "        \n",
    "    \n",
    "    \n",
    "    #print(set_f)\n",
    "    f.close()\n",
    "    return set_f"
   ]
  },
  {
   "cell_type": "code",
   "execution_count": 2,
   "metadata": {
    "collapsed": true
   },
   "outputs": [],
   "source": [
    "def read_file(file):\n",
    "    set_f = set()\n",
    "    f = open(file, 'r')\n",
    "    while True:\n",
    "        line = f.readline()\n",
    "        if not line: break\n",
    "        set_f.add(line[:-1])\n",
    "    f.close()\n",
    "    return set_f"
   ]
  },
  {
   "cell_type": "code",
   "execution_count": 3,
   "metadata": {
    "collapsed": true
   },
   "outputs": [],
   "source": [
    "nw = \"negative-words.txt\"\n",
    "pw = \"positive-words.txt\"\n",
    "\n",
    "nw_s = read_file(nw)\n",
    "pw_s = read_file(pw)\n",
    "\n",
    "score = 0"
   ]
  },
  {
   "cell_type": "code",
   "execution_count": 4,
   "metadata": {
    "collapsed": true
   },
   "outputs": [],
   "source": [
    "def cheak_socre (file_name):\n",
    "    score = 0\n",
    "    test = read_pfile(file_name)\n",
    "\n",
    "    b= set(test.keys())\n",
    "\n",
    "    set_nw = list(nw_s & b)\n",
    "    set_pw = list(pw_s & b)\n",
    "\n",
    "    for nw in set_nw:\n",
    "        score -= test[nw]\n",
    "\n",
    "    for pw in set_pw:\n",
    "        score +=test[pw]\n",
    "    \n",
    "    return score"
   ]
  },
  {
   "cell_type": "code",
   "execution_count": 5,
   "metadata": {
    "collapsed": true
   },
   "outputs": [],
   "source": [
    "def cheak_man(man):\n",
    "    say = \"\"\n",
    "    file_name = man[0]\n",
    "    man[1] = cheak_socre (file_name)\n",
    "    if man[1] < -100:\n",
    "        man[2] = \"사람들이 진심으로 싫어해요\"\n",
    "    elif  -100 < man[1] <= -50:\n",
    "        man[2] = \"사람들이 매우 싫어해요\"\n",
    "    elif  -50 < man[1] <= -30:\n",
    "        man[2] = \"사람들이 싫어해요\"\n",
    "    elif  -30 < man[1] <= -10:\n",
    "        man[2] = \"재수 없어요\"\n",
    "    elif  -10 < man[1] <= 0:\n",
    "        man[2] = \"인기가 없군요\"\n",
    "    elif 0 < man[1] <= 10:\n",
    "        man[2] = \"인기 좀 있네요\"\n",
    "    elif 10 < man[1] <= 30:\n",
    "        man[2] = \"인기가 좋아요\"\n",
    "    elif 30 < man[1] <= 50:\n",
    "        man[2] = \"사람들이 좋아해요\"\n",
    "    elif 50 < man[1] <= 100:\n",
    "        man[2] = \"사람들이 매우 좋아해요\"\n",
    "    elif 100 < man[1] <= 150:\n",
    "        man[2] = \"사람들이 진심으로 좋아해요\"\n",
    "    elif 150 < man[1] <= 200:\n",
    "        man[2] = \"인기가 장난 아니게 좋아해요\"\n",
    "    elif 200 < man[1]:\n",
    "        man[2] = \"호감도 우주 최강입니다.\"\n",
    "    return man"
   ]
  },
  {
   "cell_type": "code",
   "execution_count": 6,
   "metadata": {
    "collapsed": true
   },
   "outputs": [],
   "source": [
    "num1 = [\"안철수\",0,\"\"]\n",
    "num2 = [\"문재인\",0,\"\"]\n",
    "num3 = [\"홍준표\",0,\"\"]\n",
    "num4 = [\"유승민\",0,\"\"]\n",
    "num5 = [\"심상정\",0,\"\"]\n",
    "num6 = [\"박근혜\",0,\"\"]\n",
    "\n",
    "안철수 = (cheak_man(num1))\n",
    "문재인 = (cheak_man(num2))\n",
    "홍준표 = (cheak_man(num3))\n",
    "유승민 = (cheak_man(num4))\n",
    "심상정 = (cheak_man(num5))\n",
    "박근혜 = (cheak_man(num6))"
   ]
  },
  {
   "cell_type": "code",
   "execution_count": null,
   "metadata": {
    "collapsed": true
   },
   "outputs": [],
   "source": []
  },
  {
   "cell_type": "code",
   "execution_count": 7,
   "metadata": {},
   "outputs": [
    {
     "data": {
      "text/plain": [
       "['안철수', 102, '사람들이 진심으로 좋아해요']"
      ]
     },
     "execution_count": 7,
     "metadata": {},
     "output_type": "execute_result"
    }
   ],
   "source": [
    "안철수"
   ]
  },
  {
   "cell_type": "code",
   "execution_count": null,
   "metadata": {
    "collapsed": true
   },
   "outputs": [],
   "source": []
  },
  {
   "cell_type": "code",
   "execution_count": null,
   "metadata": {
    "collapsed": true
   },
   "outputs": [],
   "source": []
  },
  {
   "cell_type": "code",
   "execution_count": null,
   "metadata": {
    "collapsed": true
   },
   "outputs": [],
   "source": []
  },
  {
   "cell_type": "code",
   "execution_count": null,
   "metadata": {
    "collapsed": true
   },
   "outputs": [],
   "source": []
  },
  {
   "cell_type": "code",
   "execution_count": null,
   "metadata": {},
   "outputs": [],
   "source": []
  },
  {
   "cell_type": "code",
   "execution_count": 8,
   "metadata": {},
   "outputs": [
    {
     "data": {
      "text/plain": [
       "['문재인', 233, '호감도 우주 최강입니다.']"
      ]
     },
     "execution_count": 8,
     "metadata": {},
     "output_type": "execute_result"
    }
   ],
   "source": [
    "문재인"
   ]
  },
  {
   "cell_type": "code",
   "execution_count": null,
   "metadata": {},
   "outputs": [],
   "source": []
  },
  {
   "cell_type": "code",
   "execution_count": null,
   "metadata": {},
   "outputs": [],
   "source": []
  },
  {
   "cell_type": "code",
   "execution_count": null,
   "metadata": {},
   "outputs": [],
   "source": []
  },
  {
   "cell_type": "code",
   "execution_count": null,
   "metadata": {},
   "outputs": [],
   "source": []
  },
  {
   "cell_type": "code",
   "execution_count": null,
   "metadata": {
    "collapsed": true
   },
   "outputs": [],
   "source": []
  }
 ],
 "metadata": {
  "kernelspec": {
   "display_name": "Python 3",
   "language": "python",
   "name": "python3"
  },
  "language_info": {
   "codemirror_mode": {
    "name": "ipython",
    "version": 3
   },
   "file_extension": ".py",
   "mimetype": "text/x-python",
   "name": "python",
   "nbconvert_exporter": "python",
   "pygments_lexer": "ipython3",
   "version": "3.6.0"
  }
 },
 "nbformat": 4,
 "nbformat_minor": 2
}
